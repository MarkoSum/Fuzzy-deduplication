{
 "cells": [
  {
   "cell_type": "code",
   "execution_count": 2,
   "metadata": {},
   "outputs": [],
   "source": [
    "import pandas as pd\n",
    "import pandas_dedupe"
   ]
  },
  {
   "cell_type": "code",
   "execution_count": 13,
   "metadata": {},
   "outputs": [],
   "source": [
    "df = pd.read_csv(\"C:\\\\Users\\\\admin\\\\Desktop\\\\FAX\\\\Analiza podatkov kupcev\\\\SVM\\\\Podatki\\\\Dr_podatki_obdelani6.csv\",  encoding = \"ISO-8859-1\")"
   ]
  },
  {
   "cell_type": "code",
   "execution_count": 14,
   "metadata": {},
   "outputs": [
    {
     "name": "stdout",
     "output_type": "stream",
     "text": [
      "Importing data ...\n",
      "Starting active labeling...\n"
     ]
    },
    {
     "name": "stderr",
     "output_type": "stream",
     "text": [
      "PLANNO : 651\n",
      "PERNO : 498215\n",
      "SEX : m\n",
      "KRAJ : 23203 ecka\n",
      "DAVCNA_STEVILKA : 46729151\n",
      "\n",
      "PLANNO : 651\n",
      "PERNO : 498216\n",
      "SEX : f\n",
      "KRAJ : 23203 ecka\n",
      "DAVCNA_STEVILKA : 22843299\n",
      "\n",
      "0/10 positive, 0/10 negative\n",
      "Do these records refer to the same thing?\n",
      "(y)es / (n)o / (u)nsure / (f)inished\n"
     ]
    },
    {
     "name": "stdout",
     "output_type": "stream",
     "text": [
      "n\n"
     ]
    },
    {
     "name": "stderr",
     "output_type": "stream",
     "text": [
      "PLANNO : 320\n",
      "PERNO : 555278\n",
      "SEX : f\n",
      "KRAJ : dobova\n",
      "DAVCNA_STEVILKA : 49834894\n",
      "\n",
      "PLANNO : 320\n",
      "PERNO : 555276\n",
      "SEX : m\n",
      "KRAJ : dobova\n",
      "DAVCNA_STEVILKA : 30728037\n",
      "\n",
      "0/10 positive, 1/10 negative\n",
      "Do these records refer to the same thing?\n",
      "(y)es / (n)o / (u)nsure / (f)inished / (p)revious\n"
     ]
    },
    {
     "name": "stdout",
     "output_type": "stream",
     "text": [
      "n\n"
     ]
    },
    {
     "name": "stderr",
     "output_type": "stream",
     "text": [
      "PLANNO : 660\n",
      "PERNO : 411517\n",
      "SEX : n\n",
      "KRAJ : ljubljana\n",
      "DAVCNA_STEVILKA : 0\n",
      "\n",
      "PLANNO : 660\n",
      "PERNO : 411516\n",
      "SEX : n\n",
      "KRAJ : ljubljana\n",
      "DAVCNA_STEVILKA : 0\n",
      "\n",
      "0/10 positive, 2/10 negative\n",
      "Do these records refer to the same thing?\n",
      "(y)es / (n)o / (u)nsure / (f)inished / (p)revious\n"
     ]
    },
    {
     "name": "stdout",
     "output_type": "stream",
     "text": [
      "n\n"
     ]
    },
    {
     "name": "stderr",
     "output_type": "stream",
     "text": [
      "PLANNO : 801\n",
      "PERNO : 349855\n",
      "SEX : n\n",
      "KRAJ : kranj\n",
      "DAVCNA_STEVILKA : 0\n",
      "\n",
      "PLANNO : 801\n",
      "PERNO : 349853\n",
      "SEX : n\n",
      "KRAJ : kranj\n",
      "DAVCNA_STEVILKA : 0\n",
      "\n",
      "0/10 positive, 3/10 negative\n",
      "Do these records refer to the same thing?\n",
      "(y)es / (n)o / (u)nsure / (f)inished / (p)revious\n"
     ]
    },
    {
     "name": "stdout",
     "output_type": "stream",
     "text": [
      "y\n"
     ]
    },
    {
     "name": "stderr",
     "output_type": "stream",
     "text": [
      "PLANNO : 311\n",
      "PERNO : 104953\n",
      "SEX : m\n",
      "KRAJ : smartno ob paki\n",
      "DAVCNA_STEVILKA : 17776490\n",
      "\n",
      "PLANNO : 361\n",
      "PERNO : 104953\n",
      "SEX : m\n",
      "KRAJ : smartno ob paki\n",
      "DAVCNA_STEVILKA : 17776490\n",
      "\n",
      "1/10 positive, 3/10 negative\n",
      "Do these records refer to the same thing?\n",
      "(y)es / (n)o / (u)nsure / (f)inished / (p)revious\n"
     ]
    },
    {
     "name": "stdout",
     "output_type": "stream",
     "text": [
      "n\n"
     ]
    },
    {
     "name": "stderr",
     "output_type": "stream",
     "text": [
      "PLANNO : 660\n",
      "PERNO : 412417\n",
      "SEX : n\n",
      "KRAJ : ljubljana\n",
      "DAVCNA_STEVILKA : 0\n",
      "\n",
      "PLANNO : 660\n",
      "PERNO : 412412\n",
      "SEX : n\n",
      "KRAJ : ljubljana\n",
      "DAVCNA_STEVILKA : 0\n",
      "\n",
      "1/10 positive, 4/10 negative\n",
      "Do these records refer to the same thing?\n",
      "(y)es / (n)o / (u)nsure / (f)inished / (p)revious\n"
     ]
    },
    {
     "name": "stdout",
     "output_type": "stream",
     "text": [
      "n\n"
     ]
    },
    {
     "name": "stderr",
     "output_type": "stream",
     "text": [
      "PLANNO : 801\n",
      "PERNO : 305258\n",
      "SEX : n\n",
      "KRAJ : ljubljana\n",
      "DAVCNA_STEVILKA : 0\n",
      "\n",
      "PLANNO : 801\n",
      "PERNO : 305259\n",
      "SEX : n\n",
      "KRAJ : ljubljana\n",
      "DAVCNA_STEVILKA : 0\n",
      "\n",
      "1/10 positive, 5/10 negative\n",
      "Do these records refer to the same thing?\n",
      "(y)es / (n)o / (u)nsure / (f)inished / (p)revious\n"
     ]
    },
    {
     "name": "stdout",
     "output_type": "stream",
     "text": [
      "u\n"
     ]
    },
    {
     "name": "stderr",
     "output_type": "stream",
     "text": [
      "PLANNO : 801\n",
      "PERNO : 353191\n",
      "SEX : n\n",
      "KRAJ : 6846 ax arnhem\n",
      "DAVCNA_STEVILKA : 0\n",
      "\n",
      "PLANNO : 801\n",
      "PERNO : 353190\n",
      "SEX : n\n",
      "KRAJ : 6846 ax arnhem\n",
      "DAVCNA_STEVILKA : 0\n",
      "\n",
      "1/10 positive, 5/10 negative\n",
      "Do these records refer to the same thing?\n",
      "(y)es / (n)o / (u)nsure / (f)inished / (p)revious\n"
     ]
    },
    {
     "name": "stdout",
     "output_type": "stream",
     "text": [
      "u\n"
     ]
    },
    {
     "name": "stderr",
     "output_type": "stream",
     "text": [
      "PLANNO : 801\n",
      "PERNO : 306902\n",
      "SEX : n\n",
      "KRAJ : ankaran\n",
      "DAVCNA_STEVILKA : 0\n",
      "\n",
      "PLANNO : 801\n",
      "PERNO : 306901\n",
      "SEX : n\n",
      "KRAJ : ankaran\n",
      "DAVCNA_STEVILKA : 0\n",
      "\n",
      "1/10 positive, 5/10 negative\n",
      "Do these records refer to the same thing?\n",
      "(y)es / (n)o / (u)nsure / (f)inished / (p)revious\n"
     ]
    },
    {
     "name": "stdout",
     "output_type": "stream",
     "text": [
      "u\n"
     ]
    },
    {
     "name": "stderr",
     "output_type": "stream",
     "text": [
      "PLANNO : 801\n",
      "PERNO : 344127\n",
      "SEX : n\n",
      "KRAJ : novo mesto\n",
      "DAVCNA_STEVILKA : 0\n",
      "\n",
      "PLANNO : 801\n",
      "PERNO : 344125\n",
      "SEX : n\n",
      "KRAJ : novo mesto\n",
      "DAVCNA_STEVILKA : 0\n",
      "\n",
      "1/10 positive, 5/10 negative\n",
      "Do these records refer to the same thing?\n",
      "(y)es / (n)o / (u)nsure / (f)inished / (p)revious\n"
     ]
    },
    {
     "name": "stdout",
     "output_type": "stream",
     "text": [
      "u\n"
     ]
    },
    {
     "name": "stderr",
     "output_type": "stream",
     "text": [
      "PLANNO : 660\n",
      "PERNO : 412802\n",
      "SEX : n\n",
      "KRAJ : sentjernej\n",
      "DAVCNA_STEVILKA : 0\n",
      "\n",
      "PLANNO : 660\n",
      "PERNO : 412803\n",
      "SEX : n\n",
      "KRAJ : sentjernej\n",
      "DAVCNA_STEVILKA : 0\n",
      "\n",
      "1/10 positive, 5/10 negative\n",
      "Do these records refer to the same thing?\n",
      "(y)es / (n)o / (u)nsure / (f)inished / (p)revious\n"
     ]
    },
    {
     "name": "stdout",
     "output_type": "stream",
     "text": [
      "u\n"
     ]
    },
    {
     "name": "stderr",
     "output_type": "stream",
     "text": [
      "PLANNO : 801\n",
      "PERNO : 390057\n",
      "SEX : n\n",
      "KRAJ : 75650 sekoviaei\n",
      "DAVCNA_STEVILKA : 0\n",
      "\n",
      "PLANNO : 801\n",
      "PERNO : 390059\n",
      "SEX : n\n",
      "KRAJ : 75650 sekoviaei\n",
      "DAVCNA_STEVILKA : 0\n",
      "\n",
      "1/10 positive, 5/10 negative\n",
      "Do these records refer to the same thing?\n",
      "(y)es / (n)o / (u)nsure / (f)inished / (p)revious\n"
     ]
    },
    {
     "name": "stdout",
     "output_type": "stream",
     "text": [
      "u\n"
     ]
    },
    {
     "name": "stderr",
     "output_type": "stream",
     "text": [
      "PLANNO : 801\n",
      "PERNO : 359167\n",
      "SEX : n\n",
      "KRAJ : 22211 vodice\n",
      "DAVCNA_STEVILKA : 0\n",
      "\n",
      "PLANNO : 801\n",
      "PERNO : 359166\n",
      "SEX : n\n",
      "KRAJ : 22211 vodice\n",
      "DAVCNA_STEVILKA : 0\n",
      "\n",
      "1/10 positive, 5/10 negative\n",
      "Do these records refer to the same thing?\n",
      "(y)es / (n)o / (u)nsure / (f)inished / (p)revious\n"
     ]
    },
    {
     "name": "stdout",
     "output_type": "stream",
     "text": [
      "u\n"
     ]
    },
    {
     "name": "stderr",
     "output_type": "stream",
     "text": [
      "PLANNO : 801\n",
      "PERNO : 492328\n",
      "SEX : n\n",
      "KRAJ : ravne na koroskem\n",
      "DAVCNA_STEVILKA : 0\n",
      "\n",
      "PLANNO : 801\n",
      "PERNO : 492326\n",
      "SEX : n\n",
      "KRAJ : ravne na koroskem\n",
      "DAVCNA_STEVILKA : 0\n",
      "\n",
      "1/10 positive, 5/10 negative\n",
      "Do these records refer to the same thing?\n",
      "(y)es / (n)o / (u)nsure / (f)inished / (p)revious\n"
     ]
    },
    {
     "name": "stdout",
     "output_type": "stream",
     "text": [
      "u\n"
     ]
    },
    {
     "name": "stderr",
     "output_type": "stream",
     "text": [
      "PLANNO : 801\n",
      "PERNO : 331625\n",
      "SEX : n\n",
      "KRAJ : prevalje\n",
      "DAVCNA_STEVILKA : 0\n",
      "\n",
      "PLANNO : 801\n",
      "PERNO : 331623\n",
      "SEX : n\n",
      "KRAJ : prevalje\n",
      "DAVCNA_STEVILKA : 0\n",
      "\n",
      "1/10 positive, 5/10 negative\n",
      "Do these records refer to the same thing?\n",
      "(y)es / (n)o / (u)nsure / (f)inished / (p)revious\n"
     ]
    },
    {
     "name": "stdout",
     "output_type": "stream",
     "text": [
      "u\n"
     ]
    },
    {
     "name": "stderr",
     "output_type": "stream",
     "text": [
      "PLANNO : 801\n",
      "PERNO : 331670\n",
      "SEX : n\n",
      "KRAJ : domzale\n",
      "DAVCNA_STEVILKA : 0\n",
      "\n",
      "PLANNO : 801\n",
      "PERNO : 331680\n",
      "SEX : n\n",
      "KRAJ : domzale\n",
      "DAVCNA_STEVILKA : 0\n",
      "\n",
      "1/10 positive, 5/10 negative\n",
      "Do these records refer to the same thing?\n",
      "(y)es / (n)o / (u)nsure / (f)inished / (p)revious\n"
     ]
    },
    {
     "name": "stdout",
     "output_type": "stream",
     "text": [
      "u\n"
     ]
    },
    {
     "name": "stderr",
     "output_type": "stream",
     "text": [
      "PLANNO : 801\n",
      "PERNO : 331454\n",
      "SEX : n\n",
      "KRAJ : ravne na koroskem\n",
      "DAVCNA_STEVILKA : 0\n",
      "\n",
      "PLANNO : 801\n",
      "PERNO : 331456\n",
      "SEX : n\n",
      "KRAJ : ravne na koroskem\n",
      "DAVCNA_STEVILKA : 0\n",
      "\n",
      "1/10 positive, 5/10 negative\n",
      "Do these records refer to the same thing?\n",
      "(y)es / (n)o / (u)nsure / (f)inished / (p)revious\n"
     ]
    },
    {
     "name": "stdout",
     "output_type": "stream",
     "text": [
      "u\n"
     ]
    },
    {
     "name": "stderr",
     "output_type": "stream",
     "text": [
      "PLANNO : 801\n",
      "PERNO : 335214\n",
      "SEX : n\n",
      "KRAJ : hrastnik\n",
      "DAVCNA_STEVILKA : 0\n",
      "\n",
      "PLANNO : 801\n",
      "PERNO : 335211\n",
      "SEX : n\n",
      "KRAJ : hrastnik\n",
      "DAVCNA_STEVILKA : 0\n",
      "\n",
      "1/10 positive, 5/10 negative\n",
      "Do these records refer to the same thing?\n",
      "(y)es / (n)o / (u)nsure / (f)inished / (p)revious\n"
     ]
    },
    {
     "name": "stdout",
     "output_type": "stream",
     "text": [
      "u\n"
     ]
    },
    {
     "name": "stderr",
     "output_type": "stream",
     "text": [
      "PLANNO : 801\n",
      "PERNO : 447281\n",
      "SEX : n\n",
      "KRAJ : 80939 munchen\n",
      "DAVCNA_STEVILKA : 0\n",
      "\n",
      "PLANNO : 801\n",
      "PERNO : 447282\n",
      "SEX : n\n",
      "KRAJ : 80939 munchen\n",
      "DAVCNA_STEVILKA : 0\n",
      "\n",
      "1/10 positive, 5/10 negative\n",
      "Do these records refer to the same thing?\n",
      "(y)es / (n)o / (u)nsure / (f)inished / (p)revious\n"
     ]
    },
    {
     "name": "stdout",
     "output_type": "stream",
     "text": [
      "u\n"
     ]
    },
    {
     "name": "stderr",
     "output_type": "stream",
     "text": [
      "PLANNO : 660\n",
      "PERNO : 413312\n",
      "SEX : n\n",
      "KRAJ : zgornja loznica\n",
      "DAVCNA_STEVILKA : 0\n",
      "\n",
      "PLANNO : 660\n",
      "PERNO : 413311\n",
      "SEX : n\n",
      "KRAJ : zgornja loznica\n",
      "DAVCNA_STEVILKA : 0\n",
      "\n",
      "1/10 positive, 5/10 negative\n",
      "Do these records refer to the same thing?\n",
      "(y)es / (n)o / (u)nsure / (f)inished / (p)revious\n"
     ]
    },
    {
     "name": "stdout",
     "output_type": "stream",
     "text": [
      "u\n"
     ]
    },
    {
     "name": "stderr",
     "output_type": "stream",
     "text": [
      "PLANNO : 801\n",
      "PERNO : 418080\n",
      "SEX : n\n",
      "KRAJ : sentvid pri sticni\n",
      "DAVCNA_STEVILKA : 0\n",
      "\n",
      "PLANNO : 801\n",
      "PERNO : 418082\n",
      "SEX : n\n",
      "KRAJ : sentvid pri sticni\n",
      "DAVCNA_STEVILKA : 0\n",
      "\n",
      "1/10 positive, 5/10 negative\n",
      "Do these records refer to the same thing?\n",
      "(y)es / (n)o / (u)nsure / (f)inished / (p)revious\n"
     ]
    },
    {
     "name": "stdout",
     "output_type": "stream",
     "text": [
      "u\n"
     ]
    },
    {
     "name": "stderr",
     "output_type": "stream",
     "text": [
      "PLANNO : 800\n",
      "PERNO : 547706\n",
      "SEX : n\n",
      "KRAJ : dvor\n",
      "DAVCNA_STEVILKA : 0\n",
      "\n",
      "PLANNO : 800\n",
      "PERNO : 547707\n",
      "SEX : n\n",
      "KRAJ : dvor\n",
      "DAVCNA_STEVILKA : 0\n",
      "\n",
      "1/10 positive, 5/10 negative\n",
      "Do these records refer to the same thing?\n",
      "(y)es / (n)o / (u)nsure / (f)inished / (p)revious\n"
     ]
    },
    {
     "name": "stdout",
     "output_type": "stream",
     "text": [
      "u\n"
     ]
    },
    {
     "name": "stderr",
     "output_type": "stream",
     "text": [
      "PLANNO : 801\n",
      "PERNO : 311172\n",
      "SEX : n\n",
      "KRAJ : ljubljana\n",
      "DAVCNA_STEVILKA : 0\n",
      "\n",
      "PLANNO : 801\n",
      "PERNO : 311122\n",
      "SEX : n\n",
      "KRAJ : ljubljana\n",
      "DAVCNA_STEVILKA : 0\n",
      "\n",
      "1/10 positive, 5/10 negative\n",
      "Do these records refer to the same thing?\n",
      "(y)es / (n)o / (u)nsure / (f)inished / (p)revious\n"
     ]
    },
    {
     "name": "stdout",
     "output_type": "stream",
     "text": [
      "u\n"
     ]
    },
    {
     "name": "stderr",
     "output_type": "stream",
     "text": [
      "PLANNO : 801\n",
      "PERNO : 325396\n",
      "SEX : n\n",
      "KRAJ : velenje\n",
      "DAVCNA_STEVILKA : 0\n",
      "\n",
      "PLANNO : 801\n",
      "PERNO : 325398\n",
      "SEX : n\n",
      "KRAJ : velenje\n",
      "DAVCNA_STEVILKA : 0\n",
      "\n",
      "1/10 positive, 5/10 negative\n",
      "Do these records refer to the same thing?\n",
      "(y)es / (n)o / (u)nsure / (f)inished / (p)revious\n"
     ]
    },
    {
     "name": "stdout",
     "output_type": "stream",
     "text": [
      "u\n"
     ]
    },
    {
     "name": "stderr",
     "output_type": "stream",
     "text": [
      "PLANNO : 800\n",
      "PERNO : 502297\n",
      "SEX : n\n",
      "KRAJ : dobje pri planini\n",
      "DAVCNA_STEVILKA : 0\n",
      "\n",
      "PLANNO : 800\n",
      "PERNO : 502296\n",
      "SEX : n\n",
      "KRAJ : dobje pri planini\n",
      "DAVCNA_STEVILKA : 0\n",
      "\n",
      "1/10 positive, 5/10 negative\n",
      "Do these records refer to the same thing?\n",
      "(y)es / (n)o / (u)nsure / (f)inished / (p)revious\n"
     ]
    },
    {
     "name": "stdout",
     "output_type": "stream",
     "text": [
      "u\n"
     ]
    },
    {
     "name": "stderr",
     "output_type": "stream",
     "text": [
      "PLANNO : 800\n",
      "PERNO : 472624\n",
      "SEX : n\n",
      "KRAJ : dobrova\n",
      "DAVCNA_STEVILKA : 0\n",
      "\n",
      "PLANNO : 800\n",
      "PERNO : 472625\n",
      "SEX : n\n",
      "KRAJ : dobrova\n",
      "DAVCNA_STEVILKA : 0\n",
      "\n",
      "1/10 positive, 5/10 negative\n",
      "Do these records refer to the same thing?\n",
      "(y)es / (n)o / (u)nsure / (f)inished / (p)revious\n"
     ]
    },
    {
     "name": "stdout",
     "output_type": "stream",
     "text": [
      "u\n"
     ]
    },
    {
     "name": "stderr",
     "output_type": "stream",
     "text": [
      "PLANNO : 660\n",
      "PERNO : 412265\n",
      "SEX : n\n",
      "KRAJ : prevalje\n",
      "DAVCNA_STEVILKA : 0\n",
      "\n",
      "PLANNO : 660\n",
      "PERNO : 412266\n",
      "SEX : n\n",
      "KRAJ : prevalje\n",
      "DAVCNA_STEVILKA : 0\n",
      "\n",
      "1/10 positive, 5/10 negative\n",
      "Do these records refer to the same thing?\n",
      "(y)es / (n)o / (u)nsure / (f)inished / (p)revious\n"
     ]
    },
    {
     "name": "stdout",
     "output_type": "stream",
     "text": [
      "u\n"
     ]
    },
    {
     "name": "stderr",
     "output_type": "stream",
     "text": [
      "PLANNO : 801\n",
      "PERNO : 358485\n",
      "SEX : n\n",
      "KRAJ : ljubljana\n",
      "DAVCNA_STEVILKA : 0\n",
      "\n",
      "PLANNO : 801\n",
      "PERNO : 358785\n",
      "SEX : n\n",
      "KRAJ : ljubljana\n",
      "DAVCNA_STEVILKA : 0\n",
      "\n",
      "1/10 positive, 5/10 negative\n",
      "Do these records refer to the same thing?\n",
      "(y)es / (n)o / (u)nsure / (f)inished / (p)revious\n"
     ]
    },
    {
     "name": "stdout",
     "output_type": "stream",
     "text": [
      "u\n"
     ]
    },
    {
     "name": "stderr",
     "output_type": "stream",
     "text": [
      "PLANNO : 801\n",
      "PERNO : 311026\n",
      "SEX : n\n",
      "KRAJ : ljubljana\n",
      "DAVCNA_STEVILKA : 0\n",
      "\n",
      "PLANNO : 801\n",
      "PERNO : 311024\n",
      "SEX : n\n",
      "KRAJ : ljubljana\n",
      "DAVCNA_STEVILKA : 0\n",
      "\n",
      "1/10 positive, 5/10 negative\n",
      "Do these records refer to the same thing?\n",
      "(y)es / (n)o / (u)nsure / (f)inished / (p)revious\n"
     ]
    },
    {
     "name": "stdout",
     "output_type": "stream",
     "text": [
      "u\n"
     ]
    },
    {
     "name": "stderr",
     "output_type": "stream",
     "text": [
      "PLANNO : 660\n",
      "PERNO : 441762\n",
      "SEX : n\n",
      "KRAJ : ziri\n",
      "DAVCNA_STEVILKA : 0\n",
      "\n",
      "PLANNO : 660\n",
      "PERNO : 441760\n",
      "SEX : n\n",
      "KRAJ : ziri\n",
      "DAVCNA_STEVILKA : 0\n",
      "\n",
      "1/10 positive, 5/10 negative\n",
      "Do these records refer to the same thing?\n",
      "(y)es / (n)o / (u)nsure / (f)inished / (p)revious\n"
     ]
    },
    {
     "name": "stdout",
     "output_type": "stream",
     "text": [
      "f\n"
     ]
    },
    {
     "name": "stderr",
     "output_type": "stream",
     "text": [
      "Finished labeling\n",
      "C:\\Users\\admin\\anaconda3\\lib\\site-packages\\rlr\\crossvalidation.py:117: RuntimeWarning: invalid value encountered in double_scalars\n",
      "  matthews_cc = ((true_dupes * true_distinct\n"
     ]
    },
    {
     "name": "stdout",
     "output_type": "stream",
     "text": [
      "Clustering...\n",
      "# duplicate sets 154881\n"
     ]
    }
   ],
   "source": [
    "df = pandas_dedupe.dedupe_dataframe(df,['PLANNO','PERNO','SEX','KRAJ','DAVCNA_STEVILKA'])"
   ]
  },
  {
   "cell_type": "code",
   "execution_count": 15,
   "metadata": {},
   "outputs": [
    {
     "data": {
      "text/html": [
       "<div>\n",
       "<style scoped>\n",
       "    .dataframe tbody tr th:only-of-type {\n",
       "        vertical-align: middle;\n",
       "    }\n",
       "\n",
       "    .dataframe tbody tr th {\n",
       "        vertical-align: top;\n",
       "    }\n",
       "\n",
       "    .dataframe thead th {\n",
       "        text-align: right;\n",
       "    }\n",
       "</style>\n",
       "<table border=\"1\" class=\"dataframe\">\n",
       "  <thead>\n",
       "    <tr style=\"text-align: right;\">\n",
       "      <th></th>\n",
       "      <th>PLANNO</th>\n",
       "      <th>PERNO</th>\n",
       "      <th>SEX</th>\n",
       "      <th>KRAJ</th>\n",
       "      <th>DRZAVA</th>\n",
       "      <th>POSTCODE</th>\n",
       "      <th>DAVCNA_STEVILKA</th>\n",
       "      <th>STAROST</th>\n",
       "      <th>cluster id</th>\n",
       "      <th>confidence</th>\n",
       "    </tr>\n",
       "  </thead>\n",
       "  <tbody>\n",
       "    <tr>\n",
       "      <th>0</th>\n",
       "      <td>450</td>\n",
       "      <td>69814</td>\n",
       "      <td>m</td>\n",
       "      <td>cerknica</td>\n",
       "      <td>slovenija</td>\n",
       "      <td>1380</td>\n",
       "      <td>11702338</td>\n",
       "      <td>65</td>\n",
       "      <td>43</td>\n",
       "      <td>1.0</td>\n",
       "    </tr>\n",
       "    <tr>\n",
       "      <th>1</th>\n",
       "      <td>450</td>\n",
       "      <td>171359</td>\n",
       "      <td>m</td>\n",
       "      <td>puconci</td>\n",
       "      <td>slovenija</td>\n",
       "      <td>9201</td>\n",
       "      <td>13751093</td>\n",
       "      <td>73</td>\n",
       "      <td>44</td>\n",
       "      <td>1.0</td>\n",
       "    </tr>\n",
       "    <tr>\n",
       "      <th>2</th>\n",
       "      <td>450</td>\n",
       "      <td>40849</td>\n",
       "      <td>f</td>\n",
       "      <td>rogaska slatina</td>\n",
       "      <td>slovenija</td>\n",
       "      <td>3250</td>\n",
       "      <td>33379629</td>\n",
       "      <td>42</td>\n",
       "      <td>45</td>\n",
       "      <td>1.0</td>\n",
       "    </tr>\n",
       "    <tr>\n",
       "      <th>3</th>\n",
       "      <td>450</td>\n",
       "      <td>223698</td>\n",
       "      <td>f</td>\n",
       "      <td>ljubljana</td>\n",
       "      <td>slovenija</td>\n",
       "      <td>1000</td>\n",
       "      <td>34518916</td>\n",
       "      <td>48</td>\n",
       "      <td>46</td>\n",
       "      <td>1.0</td>\n",
       "    </tr>\n",
       "    <tr>\n",
       "      <th>4</th>\n",
       "      <td>450</td>\n",
       "      <td>178206</td>\n",
       "      <td>m</td>\n",
       "      <td>novo mesto</td>\n",
       "      <td>slovenija</td>\n",
       "      <td>8000</td>\n",
       "      <td>61677787</td>\n",
       "      <td>68</td>\n",
       "      <td>47</td>\n",
       "      <td>1.0</td>\n",
       "    </tr>\n",
       "    <tr>\n",
       "      <th>...</th>\n",
       "      <td>...</td>\n",
       "      <td>...</td>\n",
       "      <td>...</td>\n",
       "      <td>...</td>\n",
       "      <td>...</td>\n",
       "      <td>...</td>\n",
       "      <td>...</td>\n",
       "      <td>...</td>\n",
       "      <td>...</td>\n",
       "      <td>...</td>\n",
       "    </tr>\n",
       "    <tr>\n",
       "      <th>154922</th>\n",
       "      <td>320</td>\n",
       "      <td>241916</td>\n",
       "      <td>f</td>\n",
       "      <td>ljubljana</td>\n",
       "      <td>slovenija</td>\n",
       "      <td>1000</td>\n",
       "      <td>35336439</td>\n",
       "      <td>31</td>\n",
       "      <td>154876</td>\n",
       "      <td>1.0</td>\n",
       "    </tr>\n",
       "    <tr>\n",
       "      <th>154923</th>\n",
       "      <td>136</td>\n",
       "      <td>48404</td>\n",
       "      <td>f</td>\n",
       "      <td>gradac</td>\n",
       "      <td>slovenija</td>\n",
       "      <td>8332</td>\n",
       "      <td>59156716</td>\n",
       "      <td>63</td>\n",
       "      <td>154877</td>\n",
       "      <td>1.0</td>\n",
       "    </tr>\n",
       "    <tr>\n",
       "      <th>154924</th>\n",
       "      <td>800</td>\n",
       "      <td>494461</td>\n",
       "      <td>n</td>\n",
       "      <td>ljubljana</td>\n",
       "      <td>slovenija</td>\n",
       "      <td>1000</td>\n",
       "      <td>84382856</td>\n",
       "      <td>45</td>\n",
       "      <td>154878</td>\n",
       "      <td>1.0</td>\n",
       "    </tr>\n",
       "    <tr>\n",
       "      <th>154925</th>\n",
       "      <td>800</td>\n",
       "      <td>557804</td>\n",
       "      <td>n</td>\n",
       "      <td>sempeter pri gorici</td>\n",
       "      <td>slovenija</td>\n",
       "      <td>5290</td>\n",
       "      <td>45156204</td>\n",
       "      <td>43</td>\n",
       "      <td>154879</td>\n",
       "      <td>1.0</td>\n",
       "    </tr>\n",
       "    <tr>\n",
       "      <th>154926</th>\n",
       "      <td>800</td>\n",
       "      <td>558062</td>\n",
       "      <td>n</td>\n",
       "      <td>ljubljana</td>\n",
       "      <td>slovenija</td>\n",
       "      <td>1000</td>\n",
       "      <td>84875909</td>\n",
       "      <td>19</td>\n",
       "      <td>154880</td>\n",
       "      <td>1.0</td>\n",
       "    </tr>\n",
       "  </tbody>\n",
       "</table>\n",
       "<p>154927 rows × 10 columns</p>\n",
       "</div>"
      ],
      "text/plain": [
       "       PLANNO   PERNO SEX                 KRAJ     DRZAVA POSTCODE  \\\n",
       "0         450   69814   m             cerknica  slovenija     1380   \n",
       "1         450  171359   m              puconci  slovenija     9201   \n",
       "2         450   40849   f      rogaska slatina  slovenija     3250   \n",
       "3         450  223698   f            ljubljana  slovenija     1000   \n",
       "4         450  178206   m           novo mesto  slovenija     8000   \n",
       "...       ...     ...  ..                  ...        ...      ...   \n",
       "154922    320  241916   f            ljubljana  slovenija     1000   \n",
       "154923    136   48404   f               gradac  slovenija     8332   \n",
       "154924    800  494461   n            ljubljana  slovenija     1000   \n",
       "154925    800  557804   n  sempeter pri gorici  slovenija     5290   \n",
       "154926    800  558062   n            ljubljana  slovenija     1000   \n",
       "\n",
       "       DAVCNA_STEVILKA STAROST  cluster id  confidence  \n",
       "0             11702338      65          43         1.0  \n",
       "1             13751093      73          44         1.0  \n",
       "2             33379629      42          45         1.0  \n",
       "3             34518916      48          46         1.0  \n",
       "4             61677787      68          47         1.0  \n",
       "...                ...     ...         ...         ...  \n",
       "154922        35336439      31      154876         1.0  \n",
       "154923        59156716      63      154877         1.0  \n",
       "154924        84382856      45      154878         1.0  \n",
       "154925        45156204      43      154879         1.0  \n",
       "154926        84875909      19      154880         1.0  \n",
       "\n",
       "[154927 rows x 10 columns]"
      ]
     },
     "execution_count": 15,
     "metadata": {},
     "output_type": "execute_result"
    }
   ],
   "source": [
    "df"
   ]
  },
  {
   "cell_type": "code",
   "execution_count": 17,
   "metadata": {},
   "outputs": [],
   "source": [
    "df.to_csv('test.csv')"
   ]
  }
 ],
 "metadata": {
  "kernelspec": {
   "display_name": "Python 3",
   "language": "python",
   "name": "python3"
  },
  "language_info": {
   "codemirror_mode": {
    "name": "ipython",
    "version": 3
   },
   "file_extension": ".py",
   "mimetype": "text/x-python",
   "name": "python",
   "nbconvert_exporter": "python",
   "pygments_lexer": "ipython3",
   "version": "3.8.8"
  }
 },
 "nbformat": 4,
 "nbformat_minor": 4
}
